{
 "cells": [
  {
   "cell_type": "markdown",
   "metadata": {},
   "source": [
    "# Project 6: Analyzing Stock Sentiment from Twits\n",
    "## Instructions\n",
    "Each problem consists of a function to implement and instructions on how to implement the function.  The parts of the function that need to be implemented are marked with a `# TODO` comment.\n",
    "\n",
    "## Packages\n",
    "When you implement the functions, you'll only need to you use the packages you've used in the classroom, like [Pandas](https://pandas.pydata.org/) and [Numpy](http://www.numpy.org/). These packages will be imported for you. We recommend you don't add any import statements, otherwise the grader might not be able to run your code.\n",
    "\n",
    "### Load Packages"
   ]
  },
  {
   "cell_type": "code",
   "execution_count": 2,
   "metadata": {},
   "outputs": [],
   "source": [
    "import json\n",
    "import nltk\n",
    "import os\n",
    "import random\n",
    "import re\n",
    "import torch\n",
    "\n",
    "from torch import nn, optim\n",
    "import torch.nn.functional as F"
   ]
  },
  {
   "cell_type": "markdown",
   "metadata": {},
   "source": [
    "## Introduction\n",
    "When deciding the value of a company, it's important to follow the news. For example, a product recall or natural disaster in a company's product chain. You want to be able to turn this information into a signal. Currently, the best tool for the job is a Neural Network. \n",
    "\n",
    "For this project, you'll use posts from the social media site [StockTwits](https://en.wikipedia.org/wiki/StockTwits). The community on StockTwits is full of investors, traders, and entrepreneurs. Each message posted is called a Twit. This is similar to Twitter's version of a post, called a Tweet. You'll build a model around these twits that generate a sentiment score.\n",
    "\n",
    "We've collected a bunch of twits, then hand labeled the sentiment of each. To capture the degree of sentiment, we'll use a five-point scale: very negative, negative, neutral, positive, very positive. Each twit is labeled -2 to 2 in steps of 1, from very negative to very positive respectively. You'll build a sentiment analysis model that will learn to assign sentiment to twits on its own, using this labeled data.\n",
    "\n",
    "The first thing we should to do, is load the data.\n",
    "\n",
    "## Import Twits \n",
    "### Load Twits Data \n",
    "This JSON file contains a list of objects for each twit in the `'data'` field:\n",
    "\n",
    "```\n",
    "{'data':\n",
    "  {'message_body': 'Neutral twit body text here',\n",
    "   'sentiment': 0},\n",
    "  {'message_body': 'Happy twit body text here',\n",
    "   'sentiment': 1},\n",
    "   ...\n",
    "}\n",
    "```\n",
    "\n",
    "The fields represent the following:\n",
    "\n",
    "* `'message_body'`: The text of the twit.\n",
    "* `'sentiment'`: Sentiment score for the twit, ranges from -2 to 2 in steps of 1, with 0 being neutral.\n",
    "\n",
    "\n",
    "To see what the data look like by printing the first 10 twits from the list. "
   ]
  },
  {
   "cell_type": "code",
   "execution_count": 11,
   "metadata": {},
   "outputs": [],
   "source": [
    "with open(os.path.join('data', 'twits.json'), 'r') as f:\n",
    "    twits = json.load(f)\n",
    "\n",
    "# print(twits['data'][:10])"
   ]
  },
  {
   "cell_type": "markdown",
   "metadata": {},
   "source": [
    "### Length of Data\n",
    "Now let's look at the number of twits in dataset. Print the number of twits below."
   ]
  },
  {
   "cell_type": "code",
   "execution_count": 6,
   "metadata": {},
   "outputs": [
    {
     "name": "stdout",
     "output_type": "stream",
     "text": [
      "1548010\n"
     ]
    }
   ],
   "source": [
    "\"\"\"print out the number of twits\"\"\"\n",
    "\n",
    "# TODO Implement \n",
    "print(len(twits['data']))"
   ]
  },
  {
   "cell_type": "markdown",
   "metadata": {},
   "source": [
    "### Split Message Body and Sentiment Score"
   ]
  },
  {
   "cell_type": "code",
   "execution_count": 7,
   "metadata": {
    "scrolled": false
   },
   "outputs": [],
   "source": [
    "messages = [twit['message_body'] for twit in twits['data']]\n",
    "# print(type(messages))\n",
    "# print(messages[0])\n",
    "# print(messages[1])\n",
    "# print(messages[0:100])\n",
    "# Since the sentiment scores are discrete, we'll scale the sentiments to 0 to 4 for use in our network\n",
    "sentiments = [twit['sentiment'] + 2 for twit in twits['data']]\n",
    "# sentiments[:10]"
   ]
  },
  {
   "cell_type": "markdown",
   "metadata": {},
   "source": [
    "## Preprocessing the Data\n",
    "With our data in hand we need to preprocess our text. These twits are collected by filtering on ticker symbols where these are denoted with a leader $ symbol in the twit itself. For example,\n",
    "\n",
    "`{'message_body': 'RT @google Our annual look at the year in Google blogging (and beyond) http://t.co/sptHOAh8 $GOOG',\n",
    " 'sentiment': 0}`\n",
    "\n",
    "The ticker symbols don't provide information on the sentiment, and they are in every twit, so we should remove them. This twit also has the `@google` username, again not providing sentiment information, so we should also remove it. We also see a URL `http://t.co/sptHOAh8`. Let's remove these too.\n",
    "\n",
    "The easiest way to remove specific words or phrases is with regex using the `re` module. You can sub out specific patterns with a space:\n",
    "\n",
    "```python\n",
    "re.sub(pattern, ' ', text)\n",
    "```\n",
    "This will substitute a space with anywhere the pattern matches in the text. Later when we tokenize the text, we'll split appropriately on those spaces."
   ]
  },
  {
   "cell_type": "markdown",
   "metadata": {},
   "source": [
    "### Pre-Processing"
   ]
  },
  {
   "cell_type": "code",
   "execution_count": 8,
   "metadata": {},
   "outputs": [
    {
     "name": "stderr",
     "output_type": "stream",
     "text": [
      "[nltk_data] Downloading package wordnet to\n",
      "[nltk_data]     C:\\Users\\frank\\AppData\\Roaming\\nltk_data...\n",
      "[nltk_data]   Package wordnet is already up-to-date!\n"
     ]
    }
   ],
   "source": [
    "nltk.download('wordnet')\n",
    "\n",
    "\n",
    "def preprocess(message):\n",
    "    \"\"\"\n",
    "    This function takes a string as input, then performs these operations: \n",
    "        - lowercase\n",
    "        - remove URLs\n",
    "        - remove ticker symbols \n",
    "        - removes punctuation\n",
    "        - tokenize by splitting the string on whitespace \n",
    "        - removes any single character tokens\n",
    "    \n",
    "    Parameters\n",
    "    ----------\n",
    "        message : The text message to be preprocessed.\n",
    "        \n",
    "    Returns\n",
    "    -------\n",
    "        tokens: The preprocessed text into tokens.\n",
    "    \"\"\" \n",
    "    \n",
    "    # Lowercase the twit message\n",
    "    if type(message) == list:\n",
    "        text = [each_message.lower() for each_message in message]\n",
    "    elif type(message) == str:   # for a single tweet\n",
    "        text = [message.lower()]\n",
    "    \n",
    "    # Replace URLs with a space in the message\n",
    "    text = [re.sub(r\"https?:\\/\\/\\S+\", ' ', each_text) for each_text in text]\n",
    "#     print(text[:20])\n",
    "    \n",
    "    # Replace ticker symbols with a space. The ticker symbols are any stock symbol that starts with $.\n",
    "    text = [re.sub(r\"\\$\\w+\\S*\", ' ', each_text) for each_text in text]\n",
    "#     print(text[:20])\n",
    "    \n",
    "    # Replace StockTwits usernames with a space. The usernames are any word that starts with @.\n",
    "    text = [re.sub(r\"@\\w+\\S*\", ' ', each_text) for each_text in text]\n",
    "#     print(text[:20])\n",
    "    \n",
    "    # Replace everything not a letter with a space\n",
    "    text = [re.sub(r\"[^a-zA-Z]\", ' ', each_text) for each_text in text]\n",
    "#     print(text[:20])\n",
    "    \n",
    "    # Tokenize by splitting the string on whitespace into a list of words\n",
    "    tokens =  [each_text.split() for each_text in text]\n",
    "#     print(tokens[:20])\n",
    "\n",
    "    # Lemmatize words using the WordNetLemmatizer. You can ignore any word that is not longer than one character.\n",
    "#     print('length of tokens: {}'.format(len(tokens)))\n",
    "#     tokens = [token for token in tokens if len(token) > 1] # remove empty entries\n",
    "   \n",
    "    wnl = nltk.stem.WordNetLemmatizer()\n",
    "    for row in tokens:  # remove single letter entries and lemmatize\n",
    "        new_row = []\n",
    "        for word in row:\n",
    "            if len(word) > 1:\n",
    "                new_row.append(wnl.lemmatize(word))\n",
    "        row[:] = new_row\n",
    "    \n",
    "    assert type(tokens) == list, 'Tokens should be list'\n",
    "    return tokens"
   ]
  },
  {
   "cell_type": "markdown",
   "metadata": {},
   "source": [
    ">Note: You must ensure that after preprocessing the text should NOT include:\n",
    "- Numbers\n",
    "- URLs\n",
    "- Single character tokens\n",
    "- Ticker symbols (these should be removed even if they don't appear at the beginning)"
   ]
  },
  {
   "cell_type": "markdown",
   "metadata": {},
   "source": [
    "### Preprocess All the Twits \n",
    "Now we can preprocess each of the twits in our dataset. Apply the function `preprocess` to all the twit messages."
   ]
  },
  {
   "cell_type": "code",
   "execution_count": 9,
   "metadata": {},
   "outputs": [],
   "source": [
    "# TODO Implement\n",
    "tokenized = preprocess(messages)"
   ]
  },
  {
   "cell_type": "code",
   "execution_count": 17,
   "metadata": {},
   "outputs": [
    {
     "name": "stdout",
     "output_type": "stream",
     "text": [
      "[['great', 'buy', 'at', 'ill', 'wait'], [], ['staanalystalert', 'for', 'jefferies', 'maintains', 'with', 'rating', 'of', 'hold', 'setting', 'target', 'price', 'at', 'usd', 'our', 'own', 'verdict', 'is', 'buy'], ['heard', 'there', 'guy', 'who', 'know', 'someone', 'who', 'think', 'somebody', 'know', 'something', 'on', 'stocktwits'], ['reveal', 'yourself'], ['why', 'the', 'drop', 'warren', 'buffet', 'taking', 'out', 'his', 'position'], ['bear', 'have', 'reason', 'on', 'to', 'pay', 'more', 'attention'], ['ok', 'good', 'we', 're', 'not', 'dropping', 'in', 'price', 'over', 'the', 'weekend', 'lol'], ['daily', 'chart', 'we', 'need', 'to', 'get', 'back', 'to', 'above'], ['drop', 'per', 'week', 'after', 'spike', 'if', 'no', 'news', 'in', 'month', 'back', 'to', 'if', 'bo', 'then', 'bingo', 'what', 'is', 'the', 'odds']]\n"
     ]
    }
   ],
   "source": [
    "print(tokenized[:10])"
   ]
  },
  {
   "cell_type": "markdown",
   "metadata": {},
   "source": [
    "### Bag of Words\n",
    "Now with all of our messages tokenized, we want to create a vocabulary and count up how often each word appears in our entire corpus. Use the [`Counter`](https://docs.python.org/3.1/library/collections.html#collections.Counter) function to count up all the tokens."
   ]
  },
  {
   "cell_type": "code",
   "execution_count": 16,
   "metadata": {},
   "outputs": [],
   "source": [
    "from collections import Counter\n",
    "\n",
    "\n",
    "\"\"\"\n",
    "Create a vocabulary by using Bag of words\n",
    "\"\"\"\n",
    "\n",
    "# TODO: Implement \n",
    "# print(tokenized[100])\n",
    "flatted_tokenized = [item for sublist in tokenized for item in sublist]\n",
    "bow = Counter(flatted_tokenized)\n",
    "# print(bow)"
   ]
  },
  {
   "cell_type": "markdown",
   "metadata": {},
   "source": [
    "### Frequency of Words Appearing in Message\n",
    "With our vocabulary, now we'll remove some of the most common words such as 'the', 'and', 'it', etc. These words don't contribute to identifying sentiment and are really common, resulting in a lot of noise in our input. If we can filter these out, then our network should have an easier time learning.\n",
    "\n",
    "We also want to remove really rare words that show up in a only a few twits. Here you'll want to divide the count of each word by the **number of messages** calculated in the code block above (i.e. `len(messages))`. Then remove words that only appear in some small fraction of the messages.\n",
    "\n",
    ">Note: There is not an exact number for low and high-frequency cut-offs, however there is a correct optimal range.\n",
    "You should ideally set up low-frequency cut-off from 0.0000002 to 0.000007 (inclusive) and high-frequency from 5 to 20 (inclusive). If the number is too big, we lose lots of important words that we can use in our data."
   ]
  },
  {
   "cell_type": "code",
   "execution_count": 9,
   "metadata": {},
   "outputs": [
    {
     "name": "stdout",
     "output_type": "stream",
     "text": [
      "length of messages:1548010\n",
      "{'for', 'to', 'on', 'this', 'at', 'and', 'of', 'the', 'in', 'it', 'are', 'is', 'you', 'will', 'up'}\n",
      "len of freqs:98384\n"
     ]
    },
    {
     "data": {
      "text/plain": [
       "98369"
      ]
     },
     "execution_count": 9,
     "metadata": {},
     "output_type": "execute_result"
    }
   ],
   "source": [
    "\"\"\"\n",
    "Set the following variables:\n",
    "    freqs\n",
    "    low_cutoff\n",
    "    high_cutoff\n",
    "    K_most_common\n",
    "\"\"\"\n",
    "\n",
    "# TODO Implement \n",
    "\n",
    "# Dictionary that contains the Frequency of words appearing in messages.\n",
    "# The key is the token and the value is the frequency of that word in the corpus.\n",
    "# total words count\n",
    "total_word_count = len(messages)\n",
    "print('length of messages:{}'.format(total_word_count))\n",
    "freqs = {word: count/total_word_count for word, count in bow.items()}\n",
    "# for index, (key, value) in enumerate(freqs.items()):\n",
    "#     if value < 0.5:\n",
    "#         print(f\"{key}: {value}\")\n",
    "\n",
    "# Float that is the frequency cutoff. Drop words with a frequency that is lower or equal to this number.\n",
    "low_cutoff = 0.0000004\n",
    "\n",
    "# Integer that is the cut off for most common words. Drop words that are the `high_cutoff` most common words.\n",
    "high_cutoff = 15\n",
    "\n",
    "# The k most common words in the corpus. Use `high_cutoff` as the k.\n",
    "K_most_common = {each[0] for each in bow.most_common(high_cutoff)} \n",
    "print(K_most_common)\n",
    "\n",
    "print('len of freqs:{}'.format(len(freqs)))\n",
    "filtered_words = [word for word in freqs if (freqs[word] > low_cutoff and word not in K_most_common)]\n",
    "# print(filtered_words)\n",
    "len(filtered_words) "
   ]
  },
  {
   "cell_type": "markdown",
   "metadata": {},
   "source": [
    "### Updating Vocabulary by Removing Filtered Words\n",
    "Let's creat three variables that will help with our vocabulary."
   ]
  },
  {
   "cell_type": "code",
   "execution_count": 10,
   "metadata": {},
   "outputs": [
    {
     "name": "stdout",
     "output_type": "stream",
     "text": [
      "length of tokenized:1548010\n"
     ]
    }
   ],
   "source": [
    "\"\"\"\n",
    "Set the following variables:\n",
    "    vocab\n",
    "    id2vocab\n",
    "    filtered\n",
    "\"\"\"\n",
    "\n",
    "#TODO Implement\n",
    "\n",
    "# A dictionary for the `filtered_words`. The key is the word and value is an id that represents the word. \n",
    "vocab ={word: ii+1 for ii, word in enumerate(filtered_words)}\n",
    "# print(vocab)\n",
    "\n",
    "# Reverse of the `vocab` dictionary. The key is word id and value is the word. \n",
    "# id2vocab = pass\n",
    "id2vocab = {ch: ii for ii, ch in vocab.items()}\n",
    "# print(id2vocab)\n",
    "\n",
    "# tokenized with the words not in `filtered_words` removed.\n",
    "print('length of tokenized:{}'.format(len(tokenized)))\n",
    "filtered = [[token for token in msg if token in vocab] for msg in tokenized]\n",
    "# print(filtered[:10])\n",
    "\n",
    "assert set(vocab.keys()) == set(id2vocab.values()), 'Check vocab and id2vocab dictionaries'"
   ]
  },
  {
   "cell_type": "markdown",
   "metadata": {},
   "source": [
    "### Balancing the classes\n",
    "Let's do a few last pre-processing steps. If we look at how our twits are labeled, we'll find that 50% of them are neutral. This means that our network will be 50% accurate just by guessing 0 every single time. To help our network learn appropriately, we'll want to balance our classes.\n",
    "That is, make sure each of our different sentiment scores show up roughly as frequently in the data.\n",
    "\n",
    "What we can do here is go through each of our examples and randomly drop twits with neutral sentiment. What should be the probability we drop these twits if we want to get around 20% neutral twits starting at 50% neutral? We should also take this opportunity to remove messages with length 0."
   ]
  },
  {
   "cell_type": "code",
   "execution_count": 11,
   "metadata": {},
   "outputs": [],
   "source": [
    "balanced = {'messages': [], 'sentiments':[]}\n",
    "\n",
    "n_neutral = sum(1 for each in sentiments if each == 2)\n",
    "N_examples = len(sentiments)\n",
    "keep_prob = (N_examples - n_neutral)/4/n_neutral\n",
    "\n",
    "for idx, sentiment in enumerate(sentiments):\n",
    "    message = filtered[idx]\n",
    "    if len(message) == 0:\n",
    "        # skip this message because it has length zero\n",
    "        continue\n",
    "    elif sentiment != 2 or random.random() < keep_prob:\n",
    "        balanced['messages'].append(message)\n",
    "        balanced['sentiments'].append(sentiment) "
   ]
  },
  {
   "cell_type": "markdown",
   "metadata": {},
   "source": [
    "If you did it correctly, you should see the following result "
   ]
  },
  {
   "cell_type": "code",
   "execution_count": 12,
   "metadata": {},
   "outputs": [
    {
     "data": {
      "text/plain": [
       "0.19472006391226027"
      ]
     },
     "execution_count": 12,
     "metadata": {},
     "output_type": "execute_result"
    }
   ],
   "source": [
    "n_neutral = sum(1 for each in balanced['sentiments'] if each == 2)\n",
    "N_examples = len(balanced['sentiments'])\n",
    "n_neutral/N_examples"
   ]
  },
  {
   "cell_type": "markdown",
   "metadata": {},
   "source": [
    "Finally let's convert our tokens into integer ids which we can pass to the network."
   ]
  },
  {
   "cell_type": "code",
   "execution_count": 13,
   "metadata": {},
   "outputs": [],
   "source": [
    "token_ids = [[vocab[word] for word in message] for message in balanced['messages']]\n",
    "sentiments = balanced['sentiments']"
   ]
  },
  {
   "cell_type": "markdown",
   "metadata": {},
   "source": [
    "## Neural Network\n",
    "Now we have our vocabulary which means we can transform our tokens into ids, which are then passed to our network. So, let's define the network now!\n",
    "\n",
    "Here is a nice diagram showing the network we'd like to build: \n",
    "\n",
    "#### Embed -> RNN -> Dense -> Softmax\n",
    "### Implement the text classifier\n",
    "Before we build text classifier, if you remember from the other network that you built in  \"Sentiment Analysis with an RNN\"  exercise  - which there, the network called \" SentimentRNN\", here we named it \"TextClassifer\" - consists of three main parts: 1) init function `__init__` 2) forward pass `forward`  3) hidden state `init_hidden`. \n",
    "\n",
    "This network is pretty similar to the network you built except in the  `forward` pass, we use softmax instead of sigmoid. The reason we are not using sigmoid is that the output of NN is not a binary. In our network, sentiment scores have 5 possible outcomes. We are looking for an outcome with the highest probability thus softmax is a better choice."
   ]
  },
  {
   "cell_type": "code",
   "execution_count": 14,
   "metadata": {},
   "outputs": [
    {
     "name": "stdout",
     "output_type": "stream",
     "text": [
      "Training on GPU.\n"
     ]
    }
   ],
   "source": [
    "# First checking if GPU is available\n",
    "train_on_gpu=torch.cuda.is_available()\n",
    "if(train_on_gpu):\n",
    "    print('Training on GPU.')\n",
    "else:\n",
    "    print('No GPU available, training on CPU.')\n",
    "    \n",
    "class TextClassifier(nn.Module):\n",
    "    def __init__(self, vocab_size, embed_size, lstm_size, output_size, lstm_layers=1, dropout=0.1):\n",
    "        \"\"\"\n",
    "        Initialize the model by setting up the layers.\n",
    "        \n",
    "        Parameters\n",
    "        ----------\n",
    "            vocab_size : The vocabulary size.\n",
    "            embed_size : The embedding layer size.\n",
    "            lstm_size : The LSTM layer size.\n",
    "            output_size : The output size.\n",
    "            lstm_layers : The number of LSTM layers.\n",
    "            dropout : The dropout probability.\n",
    "        \"\"\"\n",
    "        \n",
    "        super().__init__()\n",
    "        self.vocab_size = vocab_size\n",
    "        self.embed_size = embed_size\n",
    "        self.lstm_size = lstm_size\n",
    "        self.output_size = output_size\n",
    "        self.lstm_layers = lstm_layers\n",
    "        self.dropout = dropout\n",
    "        \n",
    "        # Setup embedding layer\n",
    "        self.embedding = nn.Embedding(vocab_size, embed_size)\n",
    "        \n",
    "        # Setup additional layers\n",
    "        self.lstm = nn.LSTM(embed_size, lstm_size, lstm_layers, \n",
    "                            dropout=dropout, batch_first=False)\n",
    "        \n",
    "        # dropout layer\n",
    "        self.dropout_layer = nn.Dropout(dropout)\n",
    "        \n",
    "        # linear and softmax layers\n",
    "        self.dense = nn.Linear(lstm_size, output_size)\n",
    "        self.softmax = nn.LogSoftmax(dim=1)\n",
    "        \n",
    "    def init_hidden(self, batch_size):\n",
    "        \"\"\" \n",
    "        Initializes hidden state\n",
    "        \n",
    "        Parameters\n",
    "        ----------\n",
    "            batch_size : The size of batches.\n",
    "        \n",
    "        Returns\n",
    "        -------\n",
    "            hidden_state\n",
    "            \n",
    "        \"\"\"\n",
    "        \n",
    "        # Create two new tensors with sizes n_layers x batch_size x hidden_dim,\n",
    "        # initialized to zero, for hidden state and cell state of LSTM\n",
    "        weight = next(self.parameters()).data\n",
    "        \n",
    "        hidden_state = (weight.new(self.lstm_layers, batch_size, self.lstm_size).zero_(),\n",
    "                        weight.new(self.lstm_layers, batch_size, self.lstm_size).zero_())\n",
    "        \n",
    "        return hidden_state\n",
    "\n",
    "\n",
    "    def forward(self, nn_input, hidden_state):\n",
    "        \"\"\"\n",
    "        Perform a forward pass of our model on nn_input.\n",
    "        \n",
    "        Parameters\n",
    "        ----------\n",
    "            nn_input : The batch of input to the NN.\n",
    "            hidden_state : The LSTM hidden state.\n",
    "\n",
    "        Returns\n",
    "        -------\n",
    "            logps: log softmax output\n",
    "            hidden_state: The new hidden state.\n",
    "\n",
    "        \"\"\"\n",
    "        \n",
    "        # TODO Implement \n",
    "        batch_size = nn_input.size(0)\n",
    "        \n",
    "        # embeddings and lstm_out\n",
    "        embeds = self.embedding(nn_input)\n",
    "        lstm_out, hidden_state = self.lstm(embeds, hidden_state)\n",
    "        \n",
    "        # stack up lstm outputs\n",
    "        lstm_out = lstm_out[-1, :, :]\n",
    "        \n",
    "        # dropout layer\n",
    "        out = self.dropout_layer(lstm_out)\n",
    "        \n",
    "        # fully-connected layer\n",
    "        dense_out = self.dense(lstm_out)\n",
    "        \n",
    "        # softmax function\n",
    "        sig_out = self.softmax(dense_out)\n",
    "        \n",
    "        return sig_out, hidden_state"
   ]
  },
  {
   "cell_type": "markdown",
   "metadata": {},
   "source": [
    "### View Model"
   ]
  },
  {
   "cell_type": "code",
   "execution_count": 15,
   "metadata": {
    "scrolled": true
   },
   "outputs": [
    {
     "name": "stdout",
     "output_type": "stream",
     "text": [
      "tensor([[-1.5117, -1.3110, -1.8470, -2.0655, -1.4896],\n",
      "        [-1.4852, -1.3181, -1.8619, -2.0869, -1.4851],\n",
      "        [-1.4864, -1.3197, -1.8677, -2.0913, -1.4758],\n",
      "        [-1.5030, -1.3131, -1.8557, -2.0727, -1.4857]])\n"
     ]
    }
   ],
   "source": [
    "model = TextClassifier(len(vocab), 10, 6, 5, dropout=0.1, lstm_layers=2)\n",
    "model.embedding.weight.data.uniform_(-1, 1)\n",
    "input = torch.randint(0, 1000, (5, 4), dtype=torch.int64)\n",
    "hidden = model.init_hidden(4)\n",
    "logps, _ = model.forward(input, hidden)\n",
    "print(logps)"
   ]
  },
  {
   "cell_type": "markdown",
   "metadata": {},
   "source": [
    "## Training\n",
    "### DataLoaders and Batching\n",
    "Now we should build a generator that we can use to loop through our data. It'll be more efficient if we can pass our sequences in as batches. Our input tensors should look like `(sequence_length, batch_size)`. So if our sequences are 40 tokens long and we pass in 25 sequences, then we'd have an input size of `(40, 25)`.\n",
    "\n",
    "If we set our sequence length to 40, what do we do with messages that are more or less than 40 tokens? For messages with fewer than 40 tokens, we will pad the empty spots with zeros. We should be sure to **left** pad so that the RNN starts from nothing before going through the data. If the message has 20 tokens, then the first 20 spots of our 40 long sequence will be 0. If a message has more than 40 tokens, we'll just keep the first 40 tokens."
   ]
  },
  {
   "cell_type": "code",
   "execution_count": 16,
   "metadata": {},
   "outputs": [],
   "source": [
    "def dataloader(messages, labels, sequence_length=30, batch_size=32, shuffle=False):\n",
    "    \"\"\" \n",
    "    Build a dataloader.\n",
    "    \"\"\"\n",
    "    if shuffle:\n",
    "        indices = list(range(len(messages)))\n",
    "        random.shuffle(indices)\n",
    "        messages = [messages[idx] for idx in indices]\n",
    "        labels = [labels[idx] for idx in indices]\n",
    "\n",
    "    total_sequences = len(messages)\n",
    "\n",
    "    for ii in range(0, total_sequences, batch_size):\n",
    "        batch_messages = messages[ii: ii+batch_size]\n",
    "        \n",
    "        # First initialize a tensor of all zeros\n",
    "        batch = torch.zeros((sequence_length, len(batch_messages)), dtype=torch.int64)\n",
    "        for batch_num, tokens in enumerate(batch_messages):\n",
    "            token_tensor = torch.tensor(tokens)\n",
    "            # Left pad!\n",
    "            start_idx = max(sequence_length - len(token_tensor), 0)\n",
    "            batch[start_idx:, batch_num] = token_tensor[:sequence_length]\n",
    "        \n",
    "        label_tensor = torch.tensor(labels[ii: ii+len(batch_messages)])\n",
    "        \n",
    "        yield batch, label_tensor"
   ]
  },
  {
   "cell_type": "markdown",
   "metadata": {},
   "source": [
    "### Training and  Validation\n",
    "With our data in nice shape, we'll split it into training and validation sets."
   ]
  },
  {
   "cell_type": "code",
   "execution_count": 17,
   "metadata": {},
   "outputs": [],
   "source": [
    "\"\"\"\n",
    "Split data into training and validation datasets. Use an appropriate split size.\n",
    "The features are the `token_ids` and the labels are the `sentiments`.\n",
    "\"\"\"   \n",
    "split_frac = 0.8\n",
    "split_idx = int(len(token_ids) * split_frac) \n",
    "\n",
    "train_features = token_ids[:split_idx]\n",
    "valid_features = token_ids[split_idx:]\n",
    "train_labels = sentiments[:split_idx]\n",
    "valid_labels = sentiments[split_idx:]"
   ]
  },
  {
   "cell_type": "code",
   "execution_count": 18,
   "metadata": {},
   "outputs": [],
   "source": [
    "text_batch, labels = next(iter(dataloader(train_features, train_labels, sequence_length=20, batch_size=64)))\n",
    "model = TextClassifier(len(vocab)+1, 200, 128, 5, dropout=0.)\n",
    "hidden = model.init_hidden(64)\n",
    "logps, hidden = model.forward(text_batch, hidden)"
   ]
  },
  {
   "cell_type": "markdown",
   "metadata": {},
   "source": [
    "### Training\n",
    "It's time to train the neural network!"
   ]
  },
  {
   "cell_type": "code",
   "execution_count": 19,
   "metadata": {
    "scrolled": true
   },
   "outputs": [
    {
     "data": {
      "text/plain": [
       "TextClassifier(\n",
       "  (embedding): Embedding(98370, 1024)\n",
       "  (lstm): LSTM(1024, 512, num_layers=2, dropout=0.2)\n",
       "  (dropout_layer): Dropout(p=0.2)\n",
       "  (dense): Linear(in_features=512, out_features=5, bias=True)\n",
       "  (softmax): LogSoftmax()\n",
       ")"
      ]
     },
     "execution_count": 19,
     "metadata": {},
     "output_type": "execute_result"
    }
   ],
   "source": [
    "device = torch.device(\"cuda\" if torch.cuda.is_available() else \"cpu\")\n",
    "\n",
    "model = TextClassifier(len(vocab)+1, 1024, 512, 5, lstm_layers=2, dropout=0.2)\n",
    "model.embedding.weight.data.uniform_(-1, 1)\n",
    "model.to(device)"
   ]
  },
  {
   "cell_type": "code",
   "execution_count": 20,
   "metadata": {},
   "outputs": [
    {
     "name": "stdout",
     "output_type": "stream",
     "text": [
      "Starting epoch 1\n",
      "Epoch: 1/3... Step: 100... Loss: 1.125122... Val Loss: 1.060917 Val Accuracy: 57.074\n",
      "Epoch: 1/3... Step: 200... Loss: 1.019638... Val Loss: 0.970617 Val Accuracy: 61.463\n",
      "Epoch: 1/3... Step: 300... Loss: 0.824904... Val Loss: 0.917625 Val Accuracy: 64.349\n",
      "Epoch: 1/3... Step: 400... Loss: 0.839015... Val Loss: 0.878639 Val Accuracy: 65.941\n",
      "Epoch: 1/3... Step: 500... Loss: 0.792950... Val Loss: 0.862061 Val Accuracy: 67.208\n",
      "Epoch: 1/3... Step: 600... Loss: 0.871683... Val Loss: 0.840900 Val Accuracy: 67.368\n",
      "Epoch: 1/3... Step: 700... Loss: 0.767174... Val Loss: 0.816275 Val Accuracy: 68.317\n",
      "Epoch: 1/3... Step: 800... Loss: 0.796893... Val Loss: 0.801720 Val Accuracy: 69.012\n",
      "Epoch: 1/3... Step: 900... Loss: 0.713050... Val Loss: 0.799108 Val Accuracy: 69.459\n",
      "Epoch: 1/3... Step: 1000... Loss: 0.842422... Val Loss: 0.785547 Val Accuracy: 69.792\n",
      "Epoch: 1/3... Step: 1100... Loss: 0.815110... Val Loss: 0.782062 Val Accuracy: 69.789\n",
      "Epoch: 1/3... Step: 1200... Loss: 0.766692... Val Loss: 0.777261 Val Accuracy: 70.323\n",
      "Epoch: 1/3... Step: 1300... Loss: 0.734226... Val Loss: 0.764925 Val Accuracy: 70.699\n",
      "Epoch: 1/3... Step: 1400... Loss: 0.858965... Val Loss: 0.758131 Val Accuracy: 70.993\n",
      "Epoch: 1/3... Step: 1500... Loss: 0.812772... Val Loss: 0.758751 Val Accuracy: 70.802\n",
      "Epoch: 1/3... Step: 1600... Loss: 0.820370... Val Loss: 0.755190 Val Accuracy: 71.044\n",
      "Epoch: 1/3... Step: 1700... Loss: 0.730849... Val Loss: 0.749663 Val Accuracy: 71.338\n",
      "Epoch: 1/3... Step: 1800... Loss: 0.808963... Val Loss: 0.746226 Val Accuracy: 71.331\n",
      "Epoch: 1/3... Step: 1900... Loss: 0.735167... Val Loss: 0.744330 Val Accuracy: 71.536\n",
      "Epoch: 1/3... Step: 2000... Loss: 0.761792... Val Loss: 0.742674 Val Accuracy: 71.589\n",
      "Epoch: 1/3... Step: 2100... Loss: 0.766106... Val Loss: 0.745619 Val Accuracy: 71.527\n",
      "Epoch: 1/3... Step: 2200... Loss: 0.689871... Val Loss: 0.737623 Val Accuracy: 71.927\n",
      "Epoch: 1/3... Step: 2300... Loss: 0.781274... Val Loss: 0.731247 Val Accuracy: 72.076\n",
      "Epoch: 1/3... Step: 2400... Loss: 0.674493... Val Loss: 0.726486 Val Accuracy: 72.226\n",
      "Epoch: 1/3... Step: 2500... Loss: 0.765546... Val Loss: 0.731066 Val Accuracy: 72.091\n",
      "Epoch: 1/3... Step: 2600... Loss: 0.668902... Val Loss: 0.730376 Val Accuracy: 72.295\n",
      "Epoch: 1/3... Step: 2700... Loss: 0.636123... Val Loss: 0.723950 Val Accuracy: 72.275\n",
      "Epoch: 1/3... Step: 2800... Loss: 0.661397... Val Loss: 0.726116 Val Accuracy: 72.203\n",
      "Epoch: 1/3... Step: 2900... Loss: 0.690869... Val Loss: 0.721666 Val Accuracy: 72.196\n",
      "Epoch: 1/3... Step: 3000... Loss: 0.715819... Val Loss: 0.724768 Val Accuracy: 72.302\n",
      "Epoch: 1/3... Step: 3100... Loss: 0.661422... Val Loss: 0.720370 Val Accuracy: 72.417\n",
      "Epoch: 1/3... Step: 3200... Loss: 0.590656... Val Loss: 0.719562 Val Accuracy: 72.500\n",
      "Starting epoch 2\n",
      "Epoch: 2/3... Step: 100... Loss: 0.710443... Val Loss: 0.724541 Val Accuracy: 72.408\n",
      "Epoch: 2/3... Step: 200... Loss: 0.628668... Val Loss: 0.723024 Val Accuracy: 72.094\n",
      "Epoch: 2/3... Step: 300... Loss: 0.681787... Val Loss: 0.726828 Val Accuracy: 72.257\n",
      "Epoch: 2/3... Step: 400... Loss: 0.645330... Val Loss: 0.725418 Val Accuracy: 72.240\n",
      "Epoch: 2/3... Step: 500... Loss: 0.764182... Val Loss: 0.728895 Val Accuracy: 71.759\n",
      "Epoch: 2/3... Step: 600... Loss: 0.624718... Val Loss: 0.727096 Val Accuracy: 72.324\n",
      "Epoch: 2/3... Step: 700... Loss: 0.671527... Val Loss: 0.729475 Val Accuracy: 72.280\n",
      "Epoch: 2/3... Step: 800... Loss: 0.650439... Val Loss: 0.724888 Val Accuracy: 72.194\n",
      "Epoch: 2/3... Step: 900... Loss: 0.723411... Val Loss: 0.724694 Val Accuracy: 72.310\n",
      "Epoch: 2/3... Step: 1000... Loss: 0.693893... Val Loss: 0.723007 Val Accuracy: 72.298\n",
      "Epoch: 2/3... Step: 1100... Loss: 0.610083... Val Loss: 0.720059 Val Accuracy: 72.166\n",
      "Epoch: 2/3... Step: 1200... Loss: 0.627174... Val Loss: 0.717296 Val Accuracy: 72.208\n",
      "Epoch: 2/3... Step: 1300... Loss: 0.643201... Val Loss: 0.722419 Val Accuracy: 72.268\n",
      "Epoch: 2/3... Step: 1400... Loss: 0.634921... Val Loss: 0.719422 Val Accuracy: 72.382\n",
      "Epoch: 2/3... Step: 1500... Loss: 0.693561... Val Loss: 0.720855 Val Accuracy: 72.291\n",
      "Epoch: 2/3... Step: 1600... Loss: 0.631920... Val Loss: 0.718535 Val Accuracy: 72.561\n",
      "Epoch: 2/3... Step: 1700... Loss: 0.689866... Val Loss: 0.717335 Val Accuracy: 72.593\n",
      "Epoch: 2/3... Step: 1800... Loss: 0.608926... Val Loss: 0.718520 Val Accuracy: 72.378\n",
      "Epoch: 2/3... Step: 1900... Loss: 0.689794... Val Loss: 0.720768 Val Accuracy: 72.567\n",
      "Epoch: 2/3... Step: 2000... Loss: 0.575060... Val Loss: 0.710747 Val Accuracy: 72.728\n",
      "Epoch: 2/3... Step: 2100... Loss: 0.658773... Val Loss: 0.713116 Val Accuracy: 72.610\n",
      "Epoch: 2/3... Step: 2200... Loss: 0.725659... Val Loss: 0.719419 Val Accuracy: 72.312\n",
      "Epoch: 2/3... Step: 2300... Loss: 0.676166... Val Loss: 0.714446 Val Accuracy: 72.591\n",
      "Epoch: 2/3... Step: 2400... Loss: 0.663587... Val Loss: 0.716633 Val Accuracy: 72.250\n",
      "Epoch: 2/3... Step: 2500... Loss: 0.640717... Val Loss: 0.712940 Val Accuracy: 72.596\n",
      "Epoch: 2/3... Step: 2600... Loss: 0.567450... Val Loss: 0.709766 Val Accuracy: 72.754\n",
      "Epoch: 2/3... Step: 2700... Loss: 0.774333... Val Loss: 0.711800 Val Accuracy: 72.391\n",
      "Epoch: 2/3... Step: 2800... Loss: 0.684601... Val Loss: 0.711212 Val Accuracy: 72.568\n",
      "Epoch: 2/3... Step: 2900... Loss: 0.636572... Val Loss: 0.712748 Val Accuracy: 72.547\n",
      "Epoch: 2/3... Step: 3000... Loss: 0.606172... Val Loss: 0.708595 Val Accuracy: 72.853\n",
      "Epoch: 2/3... Step: 3100... Loss: 0.721188... Val Loss: 0.709929 Val Accuracy: 72.894\n",
      "Epoch: 2/3... Step: 3200... Loss: 0.662351... Val Loss: 0.706781 Val Accuracy: 72.856\n",
      "Starting epoch 3\n",
      "Epoch: 3/3... Step: 100... Loss: 0.512172... Val Loss: 0.739726 Val Accuracy: 72.522\n",
      "Epoch: 3/3... Step: 200... Loss: 0.526712... Val Loss: 0.735764 Val Accuracy: 72.513\n",
      "Epoch: 3/3... Step: 300... Loss: 0.587616... Val Loss: 0.741504 Val Accuracy: 72.411\n",
      "Epoch: 3/3... Step: 400... Loss: 0.494200... Val Loss: 0.741716 Val Accuracy: 72.360\n",
      "Epoch: 3/3... Step: 500... Loss: 0.589082... Val Loss: 0.745152 Val Accuracy: 72.200\n",
      "Epoch: 3/3... Step: 600... Loss: 0.527662... Val Loss: 0.745030 Val Accuracy: 71.792\n",
      "Epoch: 3/3... Step: 700... Loss: 0.653945... Val Loss: 0.746821 Val Accuracy: 71.816\n",
      "Epoch: 3/3... Step: 800... Loss: 0.575248... Val Loss: 0.745113 Val Accuracy: 71.870\n",
      "Epoch: 3/3... Step: 900... Loss: 0.643934... Val Loss: 0.745697 Val Accuracy: 72.187\n",
      "Epoch: 3/3... Step: 1000... Loss: 0.527211... Val Loss: 0.743282 Val Accuracy: 72.023\n",
      "Epoch: 3/3... Step: 1100... Loss: 0.643680... Val Loss: 0.751996 Val Accuracy: 72.149\n",
      "Epoch: 3/3... Step: 1200... Loss: 0.583948... Val Loss: 0.745592 Val Accuracy: 72.138\n",
      "Epoch: 3/3... Step: 1300... Loss: 0.521720... Val Loss: 0.748407 Val Accuracy: 71.960\n",
      "Epoch: 3/3... Step: 1400... Loss: 0.620227... Val Loss: 0.746866 Val Accuracy: 72.282\n",
      "Epoch: 3/3... Step: 1500... Loss: 0.639492... Val Loss: 0.744796 Val Accuracy: 71.950\n",
      "Epoch: 3/3... Step: 1600... Loss: 0.538985... Val Loss: 0.740620 Val Accuracy: 72.342\n",
      "Epoch: 3/3... Step: 1700... Loss: 0.589529... Val Loss: 0.740016 Val Accuracy: 72.190\n",
      "Epoch: 3/3... Step: 1800... Loss: 0.595351... Val Loss: 0.745008 Val Accuracy: 72.278\n",
      "Epoch: 3/3... Step: 1900... Loss: 0.679892... Val Loss: 0.741551 Val Accuracy: 72.322\n",
      "Epoch: 3/3... Step: 2000... Loss: 0.575031... Val Loss: 0.738724 Val Accuracy: 72.326\n",
      "Epoch: 3/3... Step: 2100... Loss: 0.602920... Val Loss: 0.735183 Val Accuracy: 72.433\n",
      "Epoch: 3/3... Step: 2200... Loss: 0.562644... Val Loss: 0.737142 Val Accuracy: 72.334\n",
      "Epoch: 3/3... Step: 2300... Loss: 0.541857... Val Loss: 0.740718 Val Accuracy: 72.445\n",
      "Epoch: 3/3... Step: 2400... Loss: 0.586963... Val Loss: 0.738031 Val Accuracy: 72.145\n",
      "Epoch: 3/3... Step: 2500... Loss: 0.607954... Val Loss: 0.738720 Val Accuracy: 72.377\n",
      "Epoch: 3/3... Step: 2600... Loss: 0.652491... Val Loss: 0.740573 Val Accuracy: 72.216\n",
      "Epoch: 3/3... Step: 2700... Loss: 0.585397... Val Loss: 0.741526 Val Accuracy: 72.251\n",
      "Epoch: 3/3... Step: 2800... Loss: 0.645958... Val Loss: 0.731346 Val Accuracy: 72.431\n",
      "Epoch: 3/3... Step: 2900... Loss: 0.628613... Val Loss: 0.731904 Val Accuracy: 72.454\n",
      "Epoch: 3/3... Step: 3000... Loss: 0.626265... Val Loss: 0.735114 Val Accuracy: 72.309\n",
      "Epoch: 3/3... Step: 3100... Loss: 0.566912... Val Loss: 0.733991 Val Accuracy: 72.277\n",
      "Epoch: 3/3... Step: 3200... Loss: 0.598612... Val Loss: 0.737686 Val Accuracy: 72.229\n"
     ]
    }
   ],
   "source": [
    "\"\"\"\n",
    "Train your model with dropout. Make sure to clip your gradients.\n",
    "Print the training loss, validation loss, and validation accuracy for every 100 steps.\n",
    "\"\"\"\n",
    "import numpy as np\n",
    "\n",
    "epochs = 3\n",
    "batch_size = 256\n",
    "learning_rate = 0.001\n",
    "clip = 5\n",
    "print_every = 100\n",
    "criterion = nn.NLLLoss()\n",
    "optimizer = optim.Adam(model.parameters(), lr=learning_rate)\n",
    "model.train()\n",
    "\n",
    "for epoch in range(epochs):\n",
    "    print('Starting epoch {}'.format(epoch + 1))\n",
    "    \n",
    "    steps = 0\n",
    "    for text_batch, labels in dataloader(\n",
    "            train_features, train_labels, batch_size=batch_size, sequence_length=20, shuffle=True):\n",
    "        steps += 1\n",
    "        \n",
    "        # initialize hidden state\n",
    "        real_batch_size = min(batch_size, text_batch.size(1))\n",
    "        hidden = model.init_hidden(real_batch_size)\n",
    "    \n",
    "        # clean hidden state\n",
    "        hidden = tuple([each.data for each in hidden])      \n",
    "        \n",
    "        # Set Device\n",
    "        text_batch, labels = text_batch.to(device), labels.to(device)\n",
    "        for each in hidden:\n",
    "            each.to(device)\n",
    "        \n",
    "        # zero accumulated gradients\n",
    "        optimizer.zero_grad()\n",
    "\n",
    "        # get the output from the model\n",
    "        output, hidden = model(text_batch, hidden)\n",
    "\n",
    "        # calculate the loss and perform backprop\n",
    "        loss = criterion(output, labels)\n",
    "        loss.backward()\n",
    "        # `clip_grad_norm` helps prevent the exploding gradient problem in RNNs / LSTMs.\n",
    "        nn.utils.clip_grad_norm_(model.parameters(), clip)\n",
    "        optimizer.step()\n",
    "        \n",
    "        # loss statistics\n",
    "        if steps % print_every == 0:\n",
    "            \n",
    "            # Get validation loss\n",
    "            val_losses = []\n",
    "            val_accuracies = []\n",
    "            model.eval()\n",
    "            for text_batch, labels in dataloader(\n",
    "                                        valid_features, valid_labels,\n",
    "                                        batch_size=batch_size,\n",
    "                                        sequence_length=20, shuffle=True):\n",
    "\n",
    "                # initialize hidden state\n",
    "                real_batch_size = min(batch_size, text_batch.size(1))\n",
    "                val_h = model.init_hidden(real_batch_size)\n",
    "                \n",
    "                # Creating new variables for the hidden state, otherwise\n",
    "                # we'd backprop through the entire training history\n",
    "                val_h = tuple([each.data for each in val_h])\n",
    "\n",
    "                text_batch, labels = text_batch.cuda(), labels.cuda()\n",
    "                for each in val_h:\n",
    "                    each.to(device)\n",
    "\n",
    "                output, val_h = model(text_batch, val_h)\n",
    "                val_loss = criterion(output, labels)\n",
    "\n",
    "                val_losses.append(val_loss.item())\n",
    "            \n",
    "                # convert output probabilities to predicted class (0 or 4)\n",
    "                ps = torch.exp(output)\n",
    "                top_p, top_class = ps.topk(1, dim=1)\n",
    "                equals = top_class.squeeze() == labels\n",
    "                valid_accuracy = torch.mean(equals.type(torch.FloatTensor))\n",
    "                val_accuracies.append(valid_accuracy.item())\n",
    "                \n",
    "            # Print metrics\n",
    "            print(\"Epoch: {}/{}...\".format(epoch+1, epochs),\n",
    "                  \"Step: {}...\".format(steps),\n",
    "                  \"Loss: {:.6f}...\".format(loss.item()),\n",
    "                  \"Val Loss: {:.6f}\".format(np.mean(val_losses)),\n",
    "                  \"Val Accuracy: {:.3f}\".format(100 *np.mean(val_accuracies)))\n",
    "            \n",
    "            model.train()"
   ]
  },
  {
   "cell_type": "code",
   "execution_count": 114,
   "metadata": {},
   "outputs": [
    {
     "name": "stderr",
     "output_type": "stream",
     "text": [
      "/opt/conda/lib/python3.6/site-packages/torch/serialization.py:193: UserWarning: Couldn't retrieve source code for container of type TextClassifier. It won't be checked for correctness upon loading.\n",
      "  \"type \" + obj.__name__ + \". It won't be checked \"\n"
     ]
    },
    {
     "name": "stdout",
     "output_type": "stream",
     "text": [
      "TextClassifier(\n",
      "  (embedding): Embedding(98370, 1024)\n",
      "  (lstm): LSTM(1024, 512, num_layers=2, dropout=0.2)\n",
      "  (dropout_layer): Dropout(p=0.2)\n",
      "  (dense): Linear(in_features=512, out_features=5, bias=True)\n",
      "  (softmax): LogSoftmax()\n",
      ")\n"
     ]
    }
   ],
   "source": [
    "# save the train network\n",
    "checkpoint = {'input_size': len(vocab)+1,\n",
    "              'output_size': 5,\n",
    "              'lstm_size': 6,\n",
    "              'lstm_layers': 2,\n",
    "              'drop_out':0.1,\n",
    "              'state_dict': model.state_dict()}\n",
    "torch.save(checkpoint, 'checkpoint.pth')\n",
    "\n",
    "torch.save(model, 'whole_model.pth')\n",
    "\n",
    "# load the train network\n",
    "# def load_checkpoint(filepath):\n",
    "#     checkpoint = torch.load(filepath)\n",
    "#     model = fc_model.Network(checkpoint['input_size'],\n",
    "#                              checkpoint['output_size'],\n",
    "#                              checkpoint['lstm_size'],\n",
    "#                              checkpoint['lstm_layers'],\n",
    "#                              checkpoint['drop_out'])\n",
    "#     model.load_state_dict(checkpoint['state_dict'])\n",
    "    \n",
    "#     return model\n",
    "# model = load_checkpoint('checkpoint.pth')\n",
    "print(model)"
   ]
  },
  {
   "cell_type": "markdown",
   "metadata": {},
   "source": [
    "## Making Predictions\n",
    "### Prediction \n",
    "Okay, now that you have a trained model, try it on some new twits and see if it works appropriately. Remember that for any new text, you'll need to preprocess it first before passing it to the network. Implement the `predict` function to generate the prediction vector from a message."
   ]
  },
  {
   "cell_type": "code",
   "execution_count": 104,
   "metadata": {},
   "outputs": [],
   "source": [
    "def predict(text, model, vocab):\n",
    "    \"\"\" \n",
    "    Make a prediction on a single sentence.\n",
    "\n",
    "    Parameters\n",
    "    ----------\n",
    "        text : The string to make a prediction on.\n",
    "        model : The model to use for making the prediction.\n",
    "        vocab : Dictionary for word to word ids. The key is the word and the value is the word id.\n",
    "\n",
    "    Returns\n",
    "    -------\n",
    "        pred : Prediction vector\n",
    "    \"\"\"    \n",
    "    \n",
    "    tokens = preprocess(text)\n",
    "    # Filter non-vocab words\n",
    "    tokens = [word for word in tokens[0] if word in vocab]\n",
    "    # Convert words to ids\n",
    "    tokens = [vocab[word] for word in tokens if word in vocab]\n",
    "\n",
    "    # Adding a batch dimension\n",
    "    text_input = torch.tensor(tokens).view(-1, 1)\n",
    "    \n",
    "    # Get the NN output\n",
    "    hidden = model.init_hidden(1)\n",
    "    logps, _ = model.forward(text_input, hidden)\n",
    "    # Take the exponent of the NN output to get a range of 0 to 1 for each label.\n",
    "#     pred = np.exp(logps.detach().numpy())\n",
    "    pred = torch.exp(logps)\n",
    "    \n",
    "    return pred"
   ]
  },
  {
   "cell_type": "code",
   "execution_count": 113,
   "metadata": {},
   "outputs": [
    {
     "data": {
      "text/plain": [
       "tensor([[ 0.0001,  0.0212,  0.0081,  0.7680,  0.2026]])"
      ]
     },
     "execution_count": 113,
     "metadata": {},
     "output_type": "execute_result"
    }
   ],
   "source": [
    "text = \"Google is working on self driving cars, I'm bullish on $goog\"\n",
    "model.eval()\n",
    "model.to(\"cpu\")\n",
    "predict(text, model, vocab)"
   ]
  },
  {
   "cell_type": "markdown",
   "metadata": {},
   "source": [
    "### Questions: What is the prediction of the model? What is the uncertainty of the prediction?\n",
    "The prediction of the model indicates a positive sentiment, with the last two entries having the highest probabilities. Our sentiment labels in this model range from the most negative to the most positive.\n",
    "\n",
    "The uncertainty of this prediction is relatively low, as the last two entries (positive and very positive) account for more than 96% of the total probability."
   ]
  },
  {
   "cell_type": "markdown",
   "metadata": {},
   "source": [
    "Now we have a trained model and we can make predictions. We can use this model to track the sentiments of various stocks by predicting the sentiments of twits as they are coming in. Now we have a stream of twits. For each of those twits, pull out the stocks mentioned in them and keep track of the sentiments. Remember that in the twits, ticker symbols are encoded with a dollar sign as the first character, all caps, and 2-4 letters, like $AAPL. Ideally, you'd want to track the sentiments of the stocks in your universe and use this as a signal in your larger model(s).\n",
    "\n",
    "## Testing\n",
    "### Load the Data "
   ]
  },
  {
   "cell_type": "code",
   "execution_count": 107,
   "metadata": {},
   "outputs": [],
   "source": [
    "with open(os.path.join('..', '..', 'data', 'project_6_stocktwits', 'test_twits.json'), 'r') as f:\n",
    "    test_data = json.load(f)\n",
    "    \n",
    "with open(\"test_twits.json\", \"w\") as outfile:\n",
    "    json.dump(test_data, outfile)"
   ]
  },
  {
   "cell_type": "markdown",
   "metadata": {},
   "source": [
    "### Twit Stream"
   ]
  },
  {
   "cell_type": "code",
   "execution_count": 108,
   "metadata": {},
   "outputs": [
    {
     "data": {
      "text/plain": [
       "{'message_body': '$JWN has moved -1.69% on 10-31. Check out the movement and peers at  https://dividendbot.com?s=JWN',\n",
       " 'timestamp': '2018-11-01T00:00:05Z'}"
      ]
     },
     "execution_count": 108,
     "metadata": {},
     "output_type": "execute_result"
    }
   ],
   "source": [
    "def twit_stream():\n",
    "    for twit in test_data['data']:\n",
    "        yield twit\n",
    "\n",
    "next(twit_stream())"
   ]
  },
  {
   "cell_type": "markdown",
   "metadata": {},
   "source": [
    "Using the `prediction` function, let's apply it to a stream of twits."
   ]
  },
  {
   "cell_type": "code",
   "execution_count": 109,
   "metadata": {},
   "outputs": [],
   "source": [
    "def score_twits(stream, model, vocab, universe):\n",
    "    \"\"\" \n",
    "    Given a stream of twits and a universe of tickers, return sentiment scores for tickers in the universe.\n",
    "    \"\"\"\n",
    "    for twit in stream:\n",
    "\n",
    "        # Get the message text\n",
    "        text = twit['message_body']\n",
    "        symbols = re.findall('\\$[A-Z]{2,4}', text)\n",
    "        score = predict(text, model, vocab)\n",
    "\n",
    "        for symbol in symbols:\n",
    "            if symbol in universe:\n",
    "                yield {'symbol': symbol, 'score': score, 'timestamp': twit['timestamp']}"
   ]
  },
  {
   "cell_type": "code",
   "execution_count": 110,
   "metadata": {},
   "outputs": [
    {
     "data": {
      "text/plain": [
       "{'symbol': '$AAPL',\n",
       " 'score': tensor([[ 0.1468,  0.0772,  0.1173,  0.1443,  0.5144]]),\n",
       " 'timestamp': '2018-11-01T00:00:18Z'}"
      ]
     },
     "execution_count": 110,
     "metadata": {},
     "output_type": "execute_result"
    }
   ],
   "source": [
    "universe = {'$BBRY', '$AAPL', '$AMZN', '$BABA', '$YHOO', '$LQMT', '$FB', '$GOOG', '$BBBY', '$JNUG', '$SBUX', '$MU'}\n",
    "score_stream = score_twits(twit_stream(), model, vocab, universe)\n",
    "\n",
    "next(score_stream)"
   ]
  },
  {
   "cell_type": "markdown",
   "metadata": {},
   "source": [
    "That's it. You have successfully built a model for sentiment analysis! "
   ]
  },
  {
   "cell_type": "markdown",
   "metadata": {},
   "source": [
    "## Submission\n",
    "Now that you're done with the project, it's time to submit it. Click the submit button in the bottom right. One of our reviewers will give you feedback on your project with a pass or not passed grade. You can continue to the next section while you wait for feedback."
   ]
  }
 ],
 "metadata": {
  "kernelspec": {
   "display_name": "Python 3",
   "language": "python",
   "name": "python3"
  },
  "language_info": {
   "codemirror_mode": {
    "name": "ipython",
    "version": 3
   },
   "file_extension": ".py",
   "mimetype": "text/x-python",
   "name": "python",
   "nbconvert_exporter": "python",
   "pygments_lexer": "ipython3",
   "version": "3.10.12"
  }
 },
 "nbformat": 4,
 "nbformat_minor": 2
}
